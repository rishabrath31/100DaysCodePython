{
 "cells": [
  {
   "cell_type": "code",
   "execution_count": 1,
   "id": "2545050d",
   "metadata": {},
   "outputs": [
    {
     "name": "stdout",
     "output_type": "stream",
     "text": [
      "Enter a Numbver to reverse:123\n",
      "Reverse Number: 321\n"
     ]
    }
   ],
   "source": [
    "num = int(input(\"Enter a Numbver to reverse:\"))\n",
    "reverse = 0\n",
    "while num != 0:\n",
    "    digit = num % 10\n",
    "    reverse = reverse * 10 + digit\n",
    "    num //= 10\n",
    "    \n",
    "print('Reverse Number: '+str(reverse))"
   ]
  },
  {
   "cell_type": "code",
   "execution_count": 2,
   "id": "da2fb40b",
   "metadata": {},
   "outputs": [
    {
     "name": "stdout",
     "output_type": "stream",
     "text": [
      "Enter a Numbver to reverse:123\n",
      "321\n"
     ]
    }
   ],
   "source": [
    "num = int(input(\"Enter a Numbver to reverse:\"))\n",
    "print(str(num)[::-1])"
   ]
  },
  {
   "cell_type": "code",
   "execution_count": 3,
   "id": "73744dc7",
   "metadata": {},
   "outputs": [
    {
     "name": "stdout",
     "output_type": "stream",
     "text": [
      "Enter a Number to reverse:456\n",
      "Not a Palindrome\n"
     ]
    }
   ],
   "source": [
    "num = (input(\"Enter a Number to reverse:\"))\n",
    "if num[::-1] == num:\n",
    "    print(\"Palindrome Number\")\n",
    "else:\n",
    "    print(\"Not a Palindrome\")"
   ]
  },
  {
   "cell_type": "code",
   "execution_count": 4,
   "id": "b7d949fd",
   "metadata": {},
   "outputs": [
    {
     "name": "stdout",
     "output_type": "stream",
     "text": [
      "Enter the number656\n",
      "No of Digits in the number is : 3\n",
      "656 is not an armstrong number\n"
     ]
    }
   ],
   "source": [
    "n = int(input(\"Enter the number\"))\n",
    "count = 0\n",
    "sum = 0\n",
    "original = n\n",
    "temp=n\n",
    "# its use for calculating number of digits in the number\n",
    "\n",
    "while(n>0):\n",
    "    count=count+1\n",
    "    n=n//10\n",
    "print(\"No of Digits in the number is :\",count)\n",
    "\n",
    "while(original > 0):\n",
    "    digit = original % 10\n",
    "    sum += digit ** count\n",
    "    original //= 10\n",
    "if temp == sum:\n",
    "    print(temp,\"is an armstrong number\")\n",
    "else:\n",
    "    print(temp,\"is not an armstrong number\")"
   ]
  },
  {
   "cell_type": "code",
   "execution_count": 5,
   "id": "437c85a1",
   "metadata": {},
   "outputs": [
    {
     "name": "stdout",
     "output_type": "stream",
     "text": [
      "Enter a number : 34\n",
      "1\n",
      "2\n",
      "3\n",
      "5\n",
      "8\n",
      "13\n",
      "21\n",
      "34\n",
      "55\n",
      "89\n",
      "144\n",
      "233\n",
      "377\n",
      "610\n",
      "987\n",
      "1597\n",
      "2584\n",
      "4181\n",
      "6765\n",
      "10946\n",
      "17711\n",
      "28657\n",
      "46368\n",
      "75025\n",
      "121393\n",
      "196418\n",
      "317811\n",
      "514229\n",
      "832040\n",
      "1346269\n",
      "2178309\n",
      "3524578\n"
     ]
    }
   ],
   "source": [
    "num = int(input(\"Enter a number : \"))\n",
    "n1,n2 = 0,1\n",
    "for i in range(2,num):\n",
    "    n3 = n1+n2\n",
    "    n1 = n2\n",
    "    n2 = n3\n",
    "    print(n3)"
   ]
  },
  {
   "cell_type": "code",
   "execution_count": 6,
   "id": "3e98f095",
   "metadata": {},
   "outputs": [
    {
     "name": "stdout",
     "output_type": "stream",
     "text": [
      "Enter the number : 5\n",
      "Factorial is :  120\n"
     ]
    }
   ],
   "source": [
    "num = int(input(\"Enter the number : \"))\n",
    "fact = 1\n",
    "for i in range(1,num+1):\n",
    "    fact = fact*i\n",
    "print(\"Factorial is : \",fact)"
   ]
  },
  {
   "cell_type": "code",
   "execution_count": 7,
   "id": "9d68c241",
   "metadata": {},
   "outputs": [
    {
     "name": "stdout",
     "output_type": "stream",
     "text": [
      "Enter the number  : 4\n",
      "Enter the number : 5\n",
      "Power of the number is 1024\n"
     ]
    }
   ],
   "source": [
    "num = int(input(\"Enter the number  : \"))\n",
    "num1 = int(input(\"Enter the number : \"))\n",
    "temp = 1\n",
    "for i in range(0,num1):\n",
    "    temp = temp * num\n",
    "print(\"Power of the number is\",temp)"
   ]
  },
  {
   "cell_type": "code",
   "execution_count": 8,
   "id": "bcfd67b4",
   "metadata": {},
   "outputs": [
    {
     "name": "stdout",
     "output_type": "stream",
     "text": [
      "enter a number5\n",
      "Factors of 5 = [1, 5]\n"
     ]
    }
   ],
   "source": [
    "num=int(input(\"enter a number\"))\n",
    "factors=[]\n",
    "for i in range(1,num+1):\n",
    "    if num%i==0:\n",
    "       factors.append(i)\n",
    "\n",
    "print (\"Factors of {} = {}\".format(num,factors))"
   ]
  },
  {
   "cell_type": "code",
   "execution_count": 9,
   "id": "4b8dce6c",
   "metadata": {},
   "outputs": [
    {
     "name": "stdout",
     "output_type": "stream",
     "text": [
      "Enter a number : 5\n",
      "5 is not a strong number\n",
      "5 is not a strong number\n",
      "5 is not a strong number\n",
      "5 is not a strong number\n",
      "5 is not a strong number\n"
     ]
    }
   ],
   "source": [
    "sum = 0\n",
    "n = int(input (\"Enter a number : \"))\n",
    "temp = n\n",
    "while (n):\n",
    "    k = 1\n",
    "    fact = 1\n",
    "    r = n % 10\n",
    "    while(k <= r):\n",
    "        fact = fact * k\n",
    "        k = k+1\n",
    "        sum = sum + fact\n",
    "        n = n// 10\n",
    "        if(sum == temp):\n",
    "            print(str(temp)+\"is a strong number\")\n",
    "        else:\n",
    "            print(str(temp)+\" is not a strong number\")"
   ]
  },
  {
   "cell_type": "code",
   "execution_count": 10,
   "id": "f29f3fac",
   "metadata": {},
   "outputs": [
    {
     "name": "stdout",
     "output_type": "stream",
     "text": [
      "Enter a number: 45\n",
      "Not Automorphic\n"
     ]
    }
   ],
   "source": [
    "digit = 0\n",
    "length = 0\n",
    "square = 0\n",
    "num = input(\"Enter a number: \")\n",
    "\n",
    "length = len(num)\n",
    "num = int(num)\n",
    "square = num ** 2\n",
    "digit = square % 10 ** length\n",
    "\n",
    "if digit == num:\n",
    "    print(num,\"IS automorphic number\")\n",
    "else:\n",
    "    print(\"Not Automorphic\")\n",
    "    "
   ]
  }
 ],
 "metadata": {
  "kernelspec": {
   "display_name": "Python 3",
   "language": "python",
   "name": "python3"
  },
  "language_info": {
   "codemirror_mode": {
    "name": "ipython",
    "version": 3
   },
   "file_extension": ".py",
   "mimetype": "text/x-python",
   "name": "python",
   "nbconvert_exporter": "python",
   "pygments_lexer": "ipython3",
   "version": "3.8.8"
  }
 },
 "nbformat": 4,
 "nbformat_minor": 5
}
