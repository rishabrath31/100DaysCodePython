{
 "cells": [
  {
   "cell_type": "code",
   "execution_count": null,
   "id": "be0ef232",
   "metadata": {},
   "outputs": [],
   "source": [
    "num = int(input(\"Enter a number to check :\"))\n",
    "if num > 0:\n",
    "    print(num,\"is a even number\")\n",
    "if num == 0:\n",
    "    print(num,\" its neither negative nor positive\")\n",
    "else:\n",
    "        print(num,\"is a negative number\")"
   ]
  },
  {
   "cell_type": "code",
   "execution_count": null,
   "id": "716fd60e",
   "metadata": {},
   "outputs": [],
   "source": [
    "num = int(input(\"Enter a number to check :\"))\n",
    "if num % 2 == 0:\n",
    "    print(\"It is a even number\")\n",
    "elif num % 2 == 1:\n",
    "    print(num,\"it is a odd number\")"
   ]
  },
  {
   "cell_type": "code",
   "execution_count": null,
   "id": "6d3cc82a",
   "metadata": {},
   "outputs": [],
   "source": [
    "num = int (input(\"Enter the number \"))\n",
    "sum = (num *(num+1))/2\n",
    "print(\"The Sum of n natural numbers:\",sum)"
   ]
  },
  {
   "cell_type": "code",
   "execution_count": null,
   "id": "5d6ca70f",
   "metadata": {},
   "outputs": [],
   "source": [
    "sum = 0\n",
    "for i in range(1,10):\n",
    "    sum = sum+i\n",
    "    print(sum)"
   ]
  },
  {
   "cell_type": "code",
   "execution_count": null,
   "id": "2f7ecedd",
   "metadata": {},
   "outputs": [],
   "source": [
    "num1 = int (input(\"Enter the number1 \"))\n",
    "num2 = int (input(\"Enter the number2 \"))\n",
    "if num1 > num2:\n",
    "    print(num1,\"is Greater than\",num2)\n",
    "else:\n",
    "    print(num2,\"is Greater than\",num1)"
   ]
  },
  {
   "cell_type": "code",
   "execution_count": null,
   "id": "b8f34163",
   "metadata": {},
   "outputs": [],
   "source": [
    "a = int(input(\"Enter First Number : \"))\n",
    "b = int(input(\"Enter Second Number : \"))\n",
    "c = int(input(\"Enter Third Number : \"))\n",
    "if (a>b) & (a>c):\n",
    "    print(a,\"is greter than \",b, c)\n",
    "elif (b>a) & (b>c):\n",
    "    print(b,\"is Greater\",a,c)\n",
    "elif (c>a)&(c>b):\n",
    "    print(c,\"is greater than\",a,b)\n",
    "    "
   ]
  },
  {
   "cell_type": "code",
   "execution_count": null,
   "id": "0436cffa",
   "metadata": {},
   "outputs": [],
   "source": [
    "year = int(input(\"Enter the year :\"))\n",
    "if(year%4)==0 & (year%100)==0 & (year%400)==0:\n",
    "    print(year,\"Its a LEAP YEAR\")\n",
    "else:\n",
    "    print(\"Not a leap Year......Try Different Year\")\n",
    "    "
   ]
  },
  {
   "cell_type": "code",
   "execution_count": 3,
   "id": "128a89d7",
   "metadata": {},
   "outputs": [
    {
     "name": "stdout",
     "output_type": "stream",
     "text": [
      "Enter a number to check prime or not: 11\n",
      "prime number\n"
     ]
    }
   ],
   "source": [
    "c= 0\n",
    "n = int(input(\"Enter a number to check prime or not: \"))\n",
    "for i in range(2,n+1):\n",
    "    if(n%i)==0:\n",
    "        c+=1\n",
    "if(c>2):        \n",
    "    print(\"Not Prime Number\")\n",
    "else:\n",
    "    print(\"prime number\")"
   ]
  },
  {
   "cell_type": "code",
   "execution_count": 6,
   "id": "932e962d",
   "metadata": {},
   "outputs": [
    {
     "name": "stdout",
     "output_type": "stream",
     "text": [
      "Enter First Range :11\n",
      "Enter Second Range :21\n",
      "11 is a prime number\n",
      "13 is a prime number\n",
      "17 is a prime number\n",
      "19 is a prime number\n"
     ]
    }
   ],
   "source": [
    "c = 0\n",
    "n1 = int(input(\"Enter First Range :\"))\n",
    "n2 = int(input(\"Enter Second Range :\"))\n",
    "for i in range(n1,n2+1):\n",
    "        for j in range(2,i):\n",
    "            if(i % j == 0):\n",
    "                break\n",
    "        else:\n",
    "            print(i,\"is a prime number\")"
   ]
  },
  {
   "cell_type": "code",
   "execution_count": 7,
   "id": "8fb82e6c",
   "metadata": {},
   "outputs": [
    {
     "name": "stdout",
     "output_type": "stream",
     "text": [
      "Enter a number :24\n",
      "6\n"
     ]
    }
   ],
   "source": [
    "num = int(input(\"Enter a number :\"))\n",
    "sum = 0\n",
    "while (num != 0):\n",
    "    sum = sum + int(num%10)\n",
    "    num = int(num/10)\n",
    "print(sum)\n"
   ]
  }
 ],
 "metadata": {
  "kernelspec": {
   "display_name": "Python 3",
   "language": "python",
   "name": "python3"
  },
  "language_info": {
   "codemirror_mode": {
    "name": "ipython",
    "version": 3
   },
   "file_extension": ".py",
   "mimetype": "text/x-python",
   "name": "python",
   "nbconvert_exporter": "python",
   "pygments_lexer": "ipython3",
   "version": "3.8.8"
  }
 },
 "nbformat": 4,
 "nbformat_minor": 5
}
